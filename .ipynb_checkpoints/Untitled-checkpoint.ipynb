{
 "cells": [
  {
   "cell_type": "code",
   "execution_count": 10,
   "metadata": {},
   "outputs": [],
   "source": [
    "import sqlite3\n",
    "conn = sqlite3.connect('sqlite_db_pythonsqlite.db')\n",
    "cur = conn.cursor()\n"
   ]
  },
  {
   "cell_type": "markdown",
   "metadata": {},
   "source": [
    "## Q10"
   ]
  },
  {
   "cell_type": "code",
   "execution_count": 11,
   "metadata": {},
   "outputs": [],
   "source": [
    "q10_query = \"\"\"SELECT sub.name, SUM( sub.revenue ) AS revenue\n",
    "FROM (\n",
    "SELECT b.facid, b.memid, f.name, f.guestcost, f.membercost, COUNT( b.facid ) AS facid_count,\n",
    "CASE\n",
    "WHEN b.memid =0\n",
    "THEN COUNT( b.facid ) * f.guestcost\n",
    "ELSE COUNT( b.facid ) * f.membercost\n",
    "END AS 'revenue'\n",
    "FROM Bookings AS b\n",
    "LEFT JOIN Facilities AS f ON b.facid = f.facid\n",
    "GROUP BY b.facid, b.memid\n",
    ") AS sub\n",
    "GROUP BY sub.facid\n",
    "HAVING revenue <=1000\"\"\""
   ]
  },
  {
   "cell_type": "code",
   "execution_count": 12,
   "metadata": {},
   "outputs": [
    {
     "data": {
      "text/plain": [
       "[('Badminton Court', 604.5),\n",
       " ('Table Tennis', 90),\n",
       " ('Snooker Table', 115),\n",
       " ('Pool Table', 265)]"
      ]
     },
     "execution_count": 12,
     "metadata": {},
     "output_type": "execute_result"
    }
   ],
   "source": [
    "[i for i in cur.execute(q10_query)]"
   ]
  },
  {
   "cell_type": "markdown",
   "metadata": {},
   "source": [
    "## Q11"
   ]
  },
  {
   "cell_type": "code",
   "execution_count": 13,
   "metadata": {},
   "outputs": [],
   "source": [
    "q11_query = \"\"\"SELECT m.surname, m.firstname, m.recommendedby AS recomender_id, r.surname, r.firstname\n",
    "FROM Members AS m\n",
    "LEFT JOIN Members AS r ON m.recommendedby = r.memid\n",
    "WHERE m.recommendedby !=0\n",
    "ORDER BY r.surname, r.firstname\n",
    "\"\"\""
   ]
  },
  {
   "cell_type": "code",
   "execution_count": 14,
   "metadata": {},
   "outputs": [
    {
     "name": "stdout",
     "output_type": "stream",
     "text": [
      "('Sarwin', 'Ramnaresh', '15', 'Bader', 'Florence')\n",
      "('Coplin', 'Joan', '16', 'Baker', 'Timothy')\n",
      "('Genting', 'Matthew', '5', 'Butters', 'Gerald')\n",
      "('Baker', 'Timothy', '13', 'Farrell', 'Jemima')\n",
      "('Pinker', 'David', '13', 'Farrell', 'Jemima')\n",
      "('Rumney', 'Henrietta', '20', 'Genting', 'Matthew')\n",
      "('Jones', 'Douglas', '11', 'Jones', 'David')\n",
      "('Dare', 'Nancy', '4', 'Joplette', 'Janice')\n",
      "('Jones', 'David', '4', 'Joplette', 'Janice')\n",
      "('Hunt', 'John', '30', 'Purview', 'Millicent')\n",
      "('Boothe', 'Tim', '3', 'Rownam', 'Tim')\n",
      "('Joplette', 'Janice', '1', 'Smith', 'Darren')\n",
      "('Butters', 'Gerald', '1', 'Smith', 'Darren')\n",
      "('Owen', 'Charles', '1', 'Smith', 'Darren')\n",
      "('Smith', 'Jack', '1', 'Smith', 'Darren')\n",
      "('Mackenzie', 'Anna', '1', 'Smith', 'Darren')\n",
      "('Worthington-Smyth', 'Henry', '2', 'Smith', 'Tracy')\n",
      "('Purview', 'Millicent', '2', 'Smith', 'Tracy')\n",
      "('Crumpet', 'Erica', '2', 'Smith', 'Tracy')\n",
      "('Baker', 'Anne', '9', 'Stibbons', 'Ponder')\n",
      "('Bader', 'Florence', '9', 'Stibbons', 'Ponder')\n",
      "('Stibbons', 'Ponder', '6', 'Tracy', 'Burton')\n"
     ]
    }
   ],
   "source": [
    "# The query does not create output none in sql but sqlite creates None value\n",
    "for i in cur.execute(q11_query):\n",
    "    if i[3] != None:\n",
    "        print(i)"
   ]
  },
  {
   "cell_type": "markdown",
   "metadata": {},
   "source": [
    "## Q12"
   ]
  },
  {
   "cell_type": "code",
   "execution_count": 15,
   "metadata": {},
   "outputs": [],
   "source": [
    "q12_query = \"\"\"SELECT b.facid, COUNT( b.memid ) AS mem_usage, f.name\n",
    "FROM (\n",
    "SELECT facid, memid\n",
    "FROM Bookings\n",
    "WHERE memid !=0\n",
    ") AS b\n",
    "LEFT JOIN Facilities AS f ON b.facid = f.facid\n",
    "GROUP BY b.facid\"\"\""
   ]
  },
  {
   "cell_type": "code",
   "execution_count": 16,
   "metadata": {},
   "outputs": [
    {
     "data": {
      "text/plain": [
       "[(0, 308, 'Tennis Court 1'),\n",
       " (1, 276, 'Tennis Court 2'),\n",
       " (2, 344, 'Badminton Court'),\n",
       " (3, 385, 'Table Tennis'),\n",
       " (4, 421, 'Massage Room 1'),\n",
       " (5, 27, 'Massage Room 2'),\n",
       " (6, 195, 'Squash Court'),\n",
       " (7, 421, 'Snooker Table'),\n",
       " (8, 783, 'Pool Table')]"
      ]
     },
     "execution_count": 16,
     "metadata": {},
     "output_type": "execute_result"
    }
   ],
   "source": [
    "[i for i in cur.execute(q12_query)]"
   ]
  },
  {
   "cell_type": "markdown",
   "metadata": {},
   "source": [
    "## Q13"
   ]
  },
  {
   "cell_type": "code",
   "execution_count": 17,
   "metadata": {},
   "outputs": [],
   "source": [
    "q13_query =\"\"\"SELECT b.months, COUNT( b.memid ) AS mem_usage\n",
    "FROM (\n",
    "SELECT strftime('%m', starttime ) AS months, memid\n",
    "FROM Bookings\n",
    "WHERE memid !=0\n",
    ") AS b\n",
    "GROUP BY b.months\"\"\""
   ]
  },
  {
   "cell_type": "code",
   "execution_count": 18,
   "metadata": {},
   "outputs": [
    {
     "data": {
      "text/plain": [
       "[('07', 480), ('08', 1168), ('09', 1512)]"
      ]
     },
     "execution_count": 18,
     "metadata": {},
     "output_type": "execute_result"
    }
   ],
   "source": [
    "[i for i in cur.execute(q13_query)]"
   ]
  }
 ],
 "metadata": {
  "kernelspec": {
   "display_name": "Python 3",
   "language": "python",
   "name": "python3"
  },
  "language_info": {
   "codemirror_mode": {
    "name": "ipython",
    "version": 3
   },
   "file_extension": ".py",
   "mimetype": "text/x-python",
   "name": "python",
   "nbconvert_exporter": "python",
   "pygments_lexer": "ipython3",
   "version": "3.8.3"
  }
 },
 "nbformat": 4,
 "nbformat_minor": 4
}
